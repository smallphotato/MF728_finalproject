{
 "cells": [
  {
   "cell_type": "markdown",
   "id": "a1596f2a",
   "metadata": {},
   "source": [
    "# Calibration: yield-curve fitting"
   ]
  },
  {
   "cell_type": "code",
   "execution_count": 20,
   "id": "eac44050",
   "metadata": {},
   "outputs": [],
   "source": [
    "import numpy as np\n",
    "import pandas as pd\n",
    "from scipy.optimize import Bounds\n",
    "from copy import copy\n",
    "from scipy.optimize import OptimizeResult, minimize\n",
    "from optimparallel import minimize_parallel\n",
    "from monte_carlo import MonteCarlo\n",
    "from ecir import JumpCIR"
   ]
  },
  {
   "cell_type": "code",
   "execution_count": 21,
   "id": "a99e3d04",
   "metadata": {},
   "outputs": [],
   "source": [
    "class Calibration:\n",
    "    def __init__(self, model_class, n: int, m: int, r0: float, model_params: dict, optimize_args: tuple, calibrate_exact=False, seed=93756826):\n",
    "        \"\"\"\n",
    "        model_class: The class of the interest rate model.\n",
    "        n and m: Parameters for the number of paths in Monte Carlo simulations.\n",
    "        r0: The initial interest rate.\n",
    "        model_params: Initial parameters of the model.\n",
    "        optimize_args: A tuple of the names of parameters to optimize.\n",
    "        calibrate_exact: Whether to use exact calculations instead of Monte Carlo simulations.\n",
    "        seed: Used to set the random seed to ensure reproducibility of results.\n",
    "        \"\"\"\n",
    "        self.n = n\n",
    "        self.m = m\n",
    "        self.r0 = r0\n",
    "        self.seed = seed\n",
    "        self.model_class = model_class\n",
    "        self.model_params = model_params\n",
    "        self.optimize_args = optimize_args\n",
    "        self.calibrate_exact = calibrate_exact\n",
    "\n",
    "    def _calculate_error(self, optimize_params: np.array, Ts: np.array, prices: np.array) -> float:\n",
    "        \"\"\"\n",
    "        The error between the model prices and market prices given parameters.\n",
    "        For each given maturity and price, calculates the difference between model prices and market prices, generating simulation paths with Monte Carlo simulations (unless exact calculation is chosen).\n",
    "        Then calculates the Euclidean norm of the price errors for all maturities on each date, and returns the average of all date errors.\n",
    "        The first value of optimize_params is always r0.\n",
    "        \"\"\"\n",
    "        model_params = copy(self.model_params)\n",
    "        for arg, param in zip(self.optimize_args, optimize_params):  # Pairing parameter names and values together\n",
    "            model_params[arg] = param  # Assigning optimization parameter values to corresponding parameter names, updating values in the model parameter copy\n",
    "        model = self.model_class(model_params)  # Forming a new interest rate model with updated parameters\n",
    "        mc = MonteCarlo(model)\n",
    "        dates, maturities = prices.shape\n",
    "        date_errors = np.empty(dates)  # Errors for each date\n",
    "        maturity_errors = np.empty(maturities)  # Errors for each maturity\n",
    "        j = 0  # Current date index\n",
    "        \n",
    "        for date in range(dates):\n",
    "            i = 0\n",
    "            for price, T in zip(prices[date, :], Ts):\n",
    "                np.random.seed(self.seed)\n",
    "                # Set the random seed to ensure that the paths generated in the mc simulation are reproducible, thus reducing random variation in results.\n",
    "                \n",
    "                if self.calibrate_exact:  # Exact calculation of error: model price versus actual price\n",
    "                    maturity_errors[i] = model.exact(r0=self.r0, T=T) - price\n",
    "                else:\n",
    "                    maturity_errors[i] = mc._simulate_paths_anti(m=self.m, r0=self.r0, n=self.n, T=T)[0] - price\n",
    "                i += 1\n",
    "            date_errors[j] = np.linalg.norm(maturity_errors)  # Length of the error vector\n",
    "            j += 1\n",
    "        return np.mean(date_errors)  # Overall magnitude of the error between the model and the market across all maturities\n",
    "\n",
    "    def calibrate(self, initial_values: tuple, Ts: np.array, prices: np.array, bounds: Bounds) -> OptimizeResult:\n",
    "        \"\"\"\n",
    "        initial_values, np.array: same length as optimize_args,\n",
    "        Ts, np.array: array of maturities to fit,\n",
    "        prices, np.array: array of prices to fit (same number of columns as Ts),\n",
    "        bounds, scipy.optimize.Bounds or None: linear bounds on the solution to ensure the algorithm doesn't waste time searching for unreasonable parameter values (e.g., negative values).\n",
    "        \"\"\"\n",
    "        error_function = lambda optimize_params: self._calculate_error(optimize_params, Ts=Ts, prices=prices)\n",
    "        optimal = minimize(error_function, initial_values, method=\"L-BFGS-B\", bounds=bounds)\n",
    "        return optimal\n"
   ]
  },
  {
   "cell_type": "code",
   "execution_count": 26,
   "id": "1519a54a",
   "metadata": {},
   "outputs": [],
   "source": [
    "# Load CSV and set DATE as index\n",
    "df = pd.read_csv(\"Data Folder/DGS_30.csv\", index_col=0)\n",
    "df.index = pd.to_datetime(df.index)\n",
    "df.index.name = 'DATE'\n",
    "\n",
    "# Select yields for a specific date, '2019-04-17'\n",
    "selected_date = '2019-04-17'\n",
    "yields = df.loc[selected_date].astype(float) / 100\n",
    "\n",
    "# Create a DataFrame for the selected yields\n",
    "yield_data = pd.DataFrame({\n",
    "    'Yield': yields.values,\n",
    "    'Maturity': np.arange(1, len(yields) + 1)\n",
    "})\n",
    "\n",
    "# Calculate cumulative yield and bond price\n",
    "yield_data[\"Cum. Yield\"] = yield_data[\"Yield\"] * yield_data[\"Maturity\"]\n",
    "yield_data[\"Price\"] = np.exp(-yield_data[\"Cum. Yield\"])\n",
    "\n",
    "# Get prices and maturities for pricing the bond\n",
    "prices = yield_data[\"Price\"].values\n",
    "Ts = yield_data[\"Maturity\"].values\n",
    "\n",
    "prices = prices.reshape(-1, 1)\n",
    "dates, maturities = prices.shape"
   ]
  },
  {
   "cell_type": "code",
   "execution_count": 27,
   "id": "36c6bc4d",
   "metadata": {},
   "outputs": [],
   "source": [
    "# Initialize model parameters\n",
    "initial_model_params = {\n",
    "    \"kappa\": 0.5,\n",
    "    \"mu_r\": 0.03,\n",
    "    \"sigma\": 0.03,\n",
    "    \"mu\": 0,\n",
    "    \"gamma\": 0.01,\n",
    "    \"h\": 10,\n",
    "}"
   ]
  },
  {
   "cell_type": "code",
   "execution_count": 28,
   "id": "90955ab4",
   "metadata": {},
   "outputs": [],
   "source": [
    "optimize_args = (\"kappa\", \"mu_r\", \"sigma\", \"gamma\")\n",
    "bounds = Bounds([0.001, 0.001, 0.01, 0.01], [1, 0.2, 0.2, 0.2])"
   ]
  },
  {
   "cell_type": "code",
   "execution_count": 29,
   "id": "4bc4704a",
   "metadata": {},
   "outputs": [
    {
     "name": "stdout",
     "output_type": "stream",
     "text": [
      "  message: CONVERGENCE: NORM_OF_PROJECTED_GRADIENT_<=_PGTOL\n",
      "  success: True\n",
      "   status: 0\n",
      "      fun: 0.2609950323953853\n",
      "        x: [ 1.000e+00  2.000e-01  1.000e-02  1.000e-02]\n",
      "      nit: 5\n",
      "      jac: [-4.103e-02 -2.851e-01  5.401e-05  1.582e-03]\n",
      "     nfev: 45\n",
      "     njev: 9\n",
      " hess_inv: <4x4 LbfgsInvHessProduct with dtype=float64>\n"
     ]
    }
   ],
   "source": [
    "if __name__ == \"__main__\":\n",
    "    calibrator = Calibration(\n",
    "        model_class=JumpCIR, \n",
    "        n=100, m=26, r0=0.001,\n",
    "        model_params=initial_model_params, optimize_args=optimize_args)\n",
    "    optimal_params = calibrator.calibrate(\n",
    "        initial_values=(initial_model_params[\"kappa\"], initial_model_params[\"mu_r\"], \n",
    "                        initial_model_params[\"sigma\"], initial_model_params[\"gamma\"]),\n",
    "        Ts=Ts,\n",
    "        prices=prices,\n",
    "        bounds=bounds\n",
    "    )\n",
    "    print(optimal_params)"
   ]
  }
 ],
 "metadata": {
  "kernelspec": {
   "display_name": "Python 3 (ipykernel)",
   "language": "python",
   "name": "python3"
  },
  "language_info": {
   "codemirror_mode": {
    "name": "ipython",
    "version": 3
   },
   "file_extension": ".py",
   "mimetype": "text/x-python",
   "name": "python",
   "nbconvert_exporter": "python",
   "pygments_lexer": "ipython3",
   "version": "3.11.5"
  }
 },
 "nbformat": 4,
 "nbformat_minor": 5
}
