{
 "cells": [
  {
   "cell_type": "code",
   "execution_count": 1,
   "id": "249fcba7-c3b9-4c9e-a716-7d87e554001b",
   "metadata": {},
   "outputs": [],
   "source": [
    "from montecarlo import MonteCarlo\n",
    "from CIRModel import BasicCIRModel\n",
    "from ECIRModel import ECIRModel\n",
    "import pandas as pd\n",
    "import numpy as np\n",
    "import matplotlib.pyplot as plt\n",
    "import seaborn as sns"
   ]
  },
  {
   "cell_type": "code",
   "execution_count": 2,
   "id": "ca7d5aed-4e90-47c5-974a-882b7bcbbbfe",
   "metadata": {},
   "outputs": [],
   "source": [
    "def read_data(years):\n",
    "    z = pd.read_csv('Data Folder/zero_coupon_yields_'+str(years)+'.csv')\n",
    "    z = z.set_index('DATE')\n",
    "    z = z.loc['2018-12-15':'2023-12-14']\n",
    "    return z\n",
    "\n",
    "z = pd.DataFrame()\n",
    "years = [1, 2, 3, 5, 7, 10, 20, 30]\n",
    "\n",
    "for i in years:\n",
    "    z[i] = read_data(i)\n",
    "    z[i] = z[i].replace('.', np.nan)\n",
    "    z[i] = pd.to_numeric(z[i])\n",
    "\n",
    "z = z.dropna()"
   ]
  },
  {
   "cell_type": "code",
   "execution_count": 3,
   "id": "cb311a0b-7c51-4918-9dd1-b33da97f98fc",
   "metadata": {},
   "outputs": [],
   "source": [
    "def create_model(mod, data):\n",
    "    models = []\n",
    "    for i in data:\n",
    "        models.append(MonteCarlo(mod, data[i][0]/100, int(i), 365*int(i), 100))\n",
    "\n",
    "    return models"
   ]
  },
  {
   "cell_type": "code",
   "execution_count": 4,
   "id": "a34f59aa-3ad4-43a9-95c0-97037f01b81a",
   "metadata": {},
   "outputs": [],
   "source": [
    "params_ecir = {\n",
    "    \"kappa\": 0.01227,    \n",
    "    \"mu_r\": 0.09854,     \n",
    "    \"sigma\": 0.09395,    \n",
    "    \"mu\": 0.002995,      \n",
    "    \"gamma\": 0.002321,   \n",
    "    \"r\": 66,             \n",
    "    \"p\": 0.3049          \n",
    "}\n",
    "\n",
    "params_cir = {\n",
    "    \"kappa\": 1.2310,\n",
    "    \"mu_r\": 0.0459,\n",
    "    \"sigma\": 0.1410\n",
    "}\n",
    "\n",
    "cir = create_model(BasicCIRModel(**params_cir), z)\n",
    "ecir = create_model(ECIRModel(**params_ecir), z)"
   ]
  },
  {
   "cell_type": "code",
   "execution_count": 5,
   "id": "624881c1-e986-44ee-a178-645ec04f5771",
   "metadata": {},
   "outputs": [],
   "source": [
    "prices_cir = pd.DataFrame()\n",
    "for model in cir:\n",
    "    prices_cir[model] = model.price_estimates()[2]\n",
    "\n",
    "prices_cir.columns = years"
   ]
  },
  {
   "cell_type": "code",
   "execution_count": 8,
   "id": "7ebcdd68-4e2f-455d-817d-967006b63209",
   "metadata": {},
   "outputs": [],
   "source": [
    "prices_ecir = pd.DataFrame()\n",
    "for model in ecir:\n",
    "    prices_ecir[model] = model.price_estimates()\n",
    "\n",
    "prices_ecir.columns = years"
   ]
  },
  {
   "cell_type": "code",
   "execution_count": 9,
   "id": "71e4df69-95ae-48b0-9d17-b6768396d3ff",
   "metadata": {},
   "outputs": [
    {
     "data": {
      "text/html": [
       "<div>\n",
       "<style scoped>\n",
       "    .dataframe tbody tr th:only-of-type {\n",
       "        vertical-align: middle;\n",
       "    }\n",
       "\n",
       "    .dataframe tbody tr th {\n",
       "        vertical-align: top;\n",
       "    }\n",
       "\n",
       "    .dataframe thead th {\n",
       "        text-align: right;\n",
       "    }\n",
       "</style>\n",
       "<table border=\"1\" class=\"dataframe\">\n",
       "  <thead>\n",
       "    <tr style=\"text-align: right;\">\n",
       "      <th></th>\n",
       "      <th>1</th>\n",
       "      <th>2</th>\n",
       "      <th>3</th>\n",
       "      <th>5</th>\n",
       "      <th>7</th>\n",
       "      <th>10</th>\n",
       "      <th>20</th>\n",
       "      <th>30</th>\n",
       "    </tr>\n",
       "  </thead>\n",
       "  <tbody>\n",
       "    <tr>\n",
       "      <th>0</th>\n",
       "      <td>0.0</td>\n",
       "      <td>0.0</td>\n",
       "      <td>0.0</td>\n",
       "      <td>0.0</td>\n",
       "      <td>0.0</td>\n",
       "      <td>0.0</td>\n",
       "      <td>0.0</td>\n",
       "      <td>0.0</td>\n",
       "    </tr>\n",
       "    <tr>\n",
       "      <th>1</th>\n",
       "      <td>0.0</td>\n",
       "      <td>0.0</td>\n",
       "      <td>0.0</td>\n",
       "      <td>0.0</td>\n",
       "      <td>0.0</td>\n",
       "      <td>0.0</td>\n",
       "      <td>0.0</td>\n",
       "      <td>0.0</td>\n",
       "    </tr>\n",
       "    <tr>\n",
       "      <th>2</th>\n",
       "      <td>[0.0, 0.0, 0.0, 0.0, 0.0, 0.0, 0.0, 0.0, 0.0, ...</td>\n",
       "      <td>[0.0, 0.0, 0.0, 0.0, 0.0, 0.0, 0.0, 0.0, 0.0, ...</td>\n",
       "      <td>[0.0, 0.0, 0.0, 0.0, 0.0, 0.0, 0.0, 0.0, 0.0, ...</td>\n",
       "      <td>[0.0, 0.0, 0.0, 0.0, 0.0, 0.0, 0.0, 0.0, 0.0, ...</td>\n",
       "      <td>[0.0, 0.0, 0.0, 0.0, 0.0, 0.0, 0.0, 0.0, 0.0, ...</td>\n",
       "      <td>[0.0, 0.0, 0.0, 0.0, 0.0, 0.0, 0.0, 0.0, 0.0, ...</td>\n",
       "      <td>[0.0, 0.0, 0.0, 0.0, 0.0, 0.0, 0.0, 0.0, 0.0, ...</td>\n",
       "      <td>[0.0, 0.0, 0.0, 0.0, 0.0, 0.0, 0.0, 0.0, 0.0, ...</td>\n",
       "    </tr>\n",
       "  </tbody>\n",
       "</table>\n",
       "</div>"
      ],
      "text/plain": [
       "                                                  1   \\\n",
       "0                                                0.0   \n",
       "1                                                0.0   \n",
       "2  [0.0, 0.0, 0.0, 0.0, 0.0, 0.0, 0.0, 0.0, 0.0, ...   \n",
       "\n",
       "                                                  2   \\\n",
       "0                                                0.0   \n",
       "1                                                0.0   \n",
       "2  [0.0, 0.0, 0.0, 0.0, 0.0, 0.0, 0.0, 0.0, 0.0, ...   \n",
       "\n",
       "                                                  3   \\\n",
       "0                                                0.0   \n",
       "1                                                0.0   \n",
       "2  [0.0, 0.0, 0.0, 0.0, 0.0, 0.0, 0.0, 0.0, 0.0, ...   \n",
       "\n",
       "                                                  5   \\\n",
       "0                                                0.0   \n",
       "1                                                0.0   \n",
       "2  [0.0, 0.0, 0.0, 0.0, 0.0, 0.0, 0.0, 0.0, 0.0, ...   \n",
       "\n",
       "                                                  7   \\\n",
       "0                                                0.0   \n",
       "1                                                0.0   \n",
       "2  [0.0, 0.0, 0.0, 0.0, 0.0, 0.0, 0.0, 0.0, 0.0, ...   \n",
       "\n",
       "                                                  10  \\\n",
       "0                                                0.0   \n",
       "1                                                0.0   \n",
       "2  [0.0, 0.0, 0.0, 0.0, 0.0, 0.0, 0.0, 0.0, 0.0, ...   \n",
       "\n",
       "                                                  20  \\\n",
       "0                                                0.0   \n",
       "1                                                0.0   \n",
       "2  [0.0, 0.0, 0.0, 0.0, 0.0, 0.0, 0.0, 0.0, 0.0, ...   \n",
       "\n",
       "                                                  30  \n",
       "0                                                0.0  \n",
       "1                                                0.0  \n",
       "2  [0.0, 0.0, 0.0, 0.0, 0.0, 0.0, 0.0, 0.0, 0.0, ...  "
      ]
     },
     "execution_count": 9,
     "metadata": {},
     "output_type": "execute_result"
    }
   ],
   "source": [
    "prices_ecir"
   ]
  },
  {
   "cell_type": "code",
   "execution_count": 11,
   "id": "0a701096-5276-4ea4-8ff0-f30a06908a62",
   "metadata": {},
   "outputs": [],
   "source": [
    "prices = pd.concat([prices_cir, prices_ecir], axis = 1)\n",
    "prices = prices.sort_index(axis = 1)\n",
    "cols = ['1_CIR', '1_ECIR', '2_CIR', '2_ECIR', '3_CIR', '3_ECIR', '5_CIR', '5_ECIR', '7_CIR', '7_ECIR','10_CIR', '10_ECIR', '20_CIR', '20_ECIR', '30_CIR', '30_ECIR']\n",
    "prices.columns = cols"
   ]
  },
  {
   "cell_type": "code",
   "execution_count": 16,
   "id": "7f8f2740-cb98-4ca6-9b92-81d3eaa3bbe6",
   "metadata": {},
   "outputs": [
    {
     "ename": "IndexError",
     "evalue": "index -9223372036854775808 is out of bounds for axis 0 with size 51",
     "output_type": "error",
     "traceback": [
      "\u001b[1;31m---------------------------------------------------------------------------\u001b[0m",
      "\u001b[1;31mIndexError\u001b[0m                                Traceback (most recent call last)",
      "Cell \u001b[1;32mIn[16], line 7\u001b[0m\n\u001b[0;32m      5\u001b[0m plt\u001b[38;5;241m.\u001b[39msubplot(\u001b[38;5;241m8\u001b[39m, \u001b[38;5;241m2\u001b[39m, i\u001b[38;5;241m+\u001b[39m\u001b[38;5;241m1\u001b[39m)\n\u001b[0;32m      6\u001b[0m plt\u001b[38;5;241m.\u001b[39mtitle(prices\u001b[38;5;241m.\u001b[39mcolumns\u001b[38;5;241m.\u001b[39mto_list()[i])\n\u001b[1;32m----> 7\u001b[0m \u001b[43mplt\u001b[49m\u001b[38;5;241;43m.\u001b[39;49m\u001b[43mhist\u001b[49m\u001b[43m(\u001b[49m\u001b[43mprices\u001b[49m\u001b[43m[\u001b[49m\u001b[43mcols\u001b[49m\u001b[43m[\u001b[49m\u001b[43mi\u001b[49m\u001b[43m]\u001b[49m\u001b[43m]\u001b[49m\u001b[43m,\u001b[49m\u001b[43m \u001b[49m\u001b[43mcolor\u001b[49m\u001b[43m \u001b[49m\u001b[38;5;241;43m=\u001b[39;49m\u001b[43m \u001b[49m\u001b[43mcolors\u001b[49m\u001b[43m[\u001b[49m\u001b[43mi\u001b[49m\u001b[43m]\u001b[49m\u001b[43m,\u001b[49m\u001b[43m \u001b[49m\u001b[43mbins\u001b[49m\u001b[43m \u001b[49m\u001b[38;5;241;43m=\u001b[39;49m\u001b[43m \u001b[49m\u001b[38;5;241;43m50\u001b[39;49m\u001b[43m)\u001b[49m\n\u001b[0;32m      8\u001b[0m plt\u001b[38;5;241m.\u001b[39mxlabel(\u001b[38;5;124m'\u001b[39m\u001b[38;5;124mPrice\u001b[39m\u001b[38;5;124m'\u001b[39m)\n\u001b[0;32m      9\u001b[0m plt\u001b[38;5;241m.\u001b[39maxvline(np\u001b[38;5;241m.\u001b[39mmean(prices[cols[i]]), color \u001b[38;5;241m=\u001b[39m \u001b[38;5;124m'\u001b[39m\u001b[38;5;124mblack\u001b[39m\u001b[38;5;124m'\u001b[39m)\n",
      "File \u001b[1;32m~\\anaconda3\\lib\\site-packages\\matplotlib\\pyplot.py:2573\u001b[0m, in \u001b[0;36mhist\u001b[1;34m(x, bins, range, density, weights, cumulative, bottom, histtype, align, orientation, rwidth, log, color, label, stacked, data, **kwargs)\u001b[0m\n\u001b[0;32m   2567\u001b[0m \u001b[38;5;129m@_copy_docstring_and_deprecators\u001b[39m(Axes\u001b[38;5;241m.\u001b[39mhist)\n\u001b[0;32m   2568\u001b[0m \u001b[38;5;28;01mdef\u001b[39;00m \u001b[38;5;21mhist\u001b[39m(\n\u001b[0;32m   2569\u001b[0m         x, bins\u001b[38;5;241m=\u001b[39m\u001b[38;5;28;01mNone\u001b[39;00m, \u001b[38;5;28mrange\u001b[39m\u001b[38;5;241m=\u001b[39m\u001b[38;5;28;01mNone\u001b[39;00m, density\u001b[38;5;241m=\u001b[39m\u001b[38;5;28;01mFalse\u001b[39;00m, weights\u001b[38;5;241m=\u001b[39m\u001b[38;5;28;01mNone\u001b[39;00m,\n\u001b[0;32m   2570\u001b[0m         cumulative\u001b[38;5;241m=\u001b[39m\u001b[38;5;28;01mFalse\u001b[39;00m, bottom\u001b[38;5;241m=\u001b[39m\u001b[38;5;28;01mNone\u001b[39;00m, histtype\u001b[38;5;241m=\u001b[39m\u001b[38;5;124m'\u001b[39m\u001b[38;5;124mbar\u001b[39m\u001b[38;5;124m'\u001b[39m, align\u001b[38;5;241m=\u001b[39m\u001b[38;5;124m'\u001b[39m\u001b[38;5;124mmid\u001b[39m\u001b[38;5;124m'\u001b[39m,\n\u001b[0;32m   2571\u001b[0m         orientation\u001b[38;5;241m=\u001b[39m\u001b[38;5;124m'\u001b[39m\u001b[38;5;124mvertical\u001b[39m\u001b[38;5;124m'\u001b[39m, rwidth\u001b[38;5;241m=\u001b[39m\u001b[38;5;28;01mNone\u001b[39;00m, log\u001b[38;5;241m=\u001b[39m\u001b[38;5;28;01mFalse\u001b[39;00m, color\u001b[38;5;241m=\u001b[39m\u001b[38;5;28;01mNone\u001b[39;00m,\n\u001b[0;32m   2572\u001b[0m         label\u001b[38;5;241m=\u001b[39m\u001b[38;5;28;01mNone\u001b[39;00m, stacked\u001b[38;5;241m=\u001b[39m\u001b[38;5;28;01mFalse\u001b[39;00m, \u001b[38;5;241m*\u001b[39m, data\u001b[38;5;241m=\u001b[39m\u001b[38;5;28;01mNone\u001b[39;00m, \u001b[38;5;241m*\u001b[39m\u001b[38;5;241m*\u001b[39mkwargs):\n\u001b[1;32m-> 2573\u001b[0m     \u001b[38;5;28;01mreturn\u001b[39;00m gca()\u001b[38;5;241m.\u001b[39mhist(\n\u001b[0;32m   2574\u001b[0m         x, bins\u001b[38;5;241m=\u001b[39mbins, \u001b[38;5;28mrange\u001b[39m\u001b[38;5;241m=\u001b[39m\u001b[38;5;28mrange\u001b[39m, density\u001b[38;5;241m=\u001b[39mdensity, weights\u001b[38;5;241m=\u001b[39mweights,\n\u001b[0;32m   2575\u001b[0m         cumulative\u001b[38;5;241m=\u001b[39mcumulative, bottom\u001b[38;5;241m=\u001b[39mbottom, histtype\u001b[38;5;241m=\u001b[39mhisttype,\n\u001b[0;32m   2576\u001b[0m         align\u001b[38;5;241m=\u001b[39malign, orientation\u001b[38;5;241m=\u001b[39morientation, rwidth\u001b[38;5;241m=\u001b[39mrwidth, log\u001b[38;5;241m=\u001b[39mlog,\n\u001b[0;32m   2577\u001b[0m         color\u001b[38;5;241m=\u001b[39mcolor, label\u001b[38;5;241m=\u001b[39mlabel, stacked\u001b[38;5;241m=\u001b[39mstacked,\n\u001b[0;32m   2578\u001b[0m         \u001b[38;5;241m*\u001b[39m\u001b[38;5;241m*\u001b[39m({\u001b[38;5;124m\"\u001b[39m\u001b[38;5;124mdata\u001b[39m\u001b[38;5;124m\"\u001b[39m: data} \u001b[38;5;28;01mif\u001b[39;00m data \u001b[38;5;129;01mis\u001b[39;00m \u001b[38;5;129;01mnot\u001b[39;00m \u001b[38;5;28;01mNone\u001b[39;00m \u001b[38;5;28;01melse\u001b[39;00m {}), \u001b[38;5;241m*\u001b[39m\u001b[38;5;241m*\u001b[39mkwargs)\n",
      "File \u001b[1;32m~\\anaconda3\\lib\\site-packages\\matplotlib\\__init__.py:1423\u001b[0m, in \u001b[0;36m_preprocess_data.<locals>.inner\u001b[1;34m(ax, data, *args, **kwargs)\u001b[0m\n\u001b[0;32m   1420\u001b[0m \u001b[38;5;129m@functools\u001b[39m\u001b[38;5;241m.\u001b[39mwraps(func)\n\u001b[0;32m   1421\u001b[0m \u001b[38;5;28;01mdef\u001b[39;00m \u001b[38;5;21minner\u001b[39m(ax, \u001b[38;5;241m*\u001b[39margs, data\u001b[38;5;241m=\u001b[39m\u001b[38;5;28;01mNone\u001b[39;00m, \u001b[38;5;241m*\u001b[39m\u001b[38;5;241m*\u001b[39mkwargs):\n\u001b[0;32m   1422\u001b[0m     \u001b[38;5;28;01mif\u001b[39;00m data \u001b[38;5;129;01mis\u001b[39;00m \u001b[38;5;28;01mNone\u001b[39;00m:\n\u001b[1;32m-> 1423\u001b[0m         \u001b[38;5;28;01mreturn\u001b[39;00m func(ax, \u001b[38;5;241m*\u001b[39m\u001b[38;5;28mmap\u001b[39m(sanitize_sequence, args), \u001b[38;5;241m*\u001b[39m\u001b[38;5;241m*\u001b[39mkwargs)\n\u001b[0;32m   1425\u001b[0m     bound \u001b[38;5;241m=\u001b[39m new_sig\u001b[38;5;241m.\u001b[39mbind(ax, \u001b[38;5;241m*\u001b[39margs, \u001b[38;5;241m*\u001b[39m\u001b[38;5;241m*\u001b[39mkwargs)\n\u001b[0;32m   1426\u001b[0m     auto_label \u001b[38;5;241m=\u001b[39m (bound\u001b[38;5;241m.\u001b[39marguments\u001b[38;5;241m.\u001b[39mget(label_namer)\n\u001b[0;32m   1427\u001b[0m                   \u001b[38;5;129;01mor\u001b[39;00m bound\u001b[38;5;241m.\u001b[39mkwargs\u001b[38;5;241m.\u001b[39mget(label_namer))\n",
      "File \u001b[1;32m~\\anaconda3\\lib\\site-packages\\matplotlib\\axes\\_axes.py:6737\u001b[0m, in \u001b[0;36mAxes.hist\u001b[1;34m(self, x, bins, range, density, weights, cumulative, bottom, histtype, align, orientation, rwidth, log, color, label, stacked, **kwargs)\u001b[0m\n\u001b[0;32m   6733\u001b[0m \u001b[38;5;66;03m# Loop through datasets\u001b[39;00m\n\u001b[0;32m   6734\u001b[0m \u001b[38;5;28;01mfor\u001b[39;00m i \u001b[38;5;129;01min\u001b[39;00m \u001b[38;5;28mrange\u001b[39m(nx):\n\u001b[0;32m   6735\u001b[0m     \u001b[38;5;66;03m# this will automatically overwrite bins,\u001b[39;00m\n\u001b[0;32m   6736\u001b[0m     \u001b[38;5;66;03m# so that each histogram uses the same bins\u001b[39;00m\n\u001b[1;32m-> 6737\u001b[0m     m, bins \u001b[38;5;241m=\u001b[39m np\u001b[38;5;241m.\u001b[39mhistogram(x[i], bins, weights\u001b[38;5;241m=\u001b[39mw[i], \u001b[38;5;241m*\u001b[39m\u001b[38;5;241m*\u001b[39mhist_kwargs)\n\u001b[0;32m   6738\u001b[0m     tops\u001b[38;5;241m.\u001b[39mappend(m)\n\u001b[0;32m   6739\u001b[0m tops \u001b[38;5;241m=\u001b[39m np\u001b[38;5;241m.\u001b[39marray(tops, \u001b[38;5;28mfloat\u001b[39m)  \u001b[38;5;66;03m# causes problems later if it's an int\u001b[39;00m\n",
      "File \u001b[1;32m<__array_function__ internals>:200\u001b[0m, in \u001b[0;36mhistogram\u001b[1;34m(*args, **kwargs)\u001b[0m\n",
      "File \u001b[1;32m~\\anaconda3\\lib\\site-packages\\numpy\\lib\\histograms.py:844\u001b[0m, in \u001b[0;36mhistogram\u001b[1;34m(a, bins, range, density, weights)\u001b[0m\n\u001b[0;32m    840\u001b[0m indices[indices \u001b[38;5;241m==\u001b[39m n_equal_bins] \u001b[38;5;241m-\u001b[39m\u001b[38;5;241m=\u001b[39m \u001b[38;5;241m1\u001b[39m\n\u001b[0;32m    842\u001b[0m \u001b[38;5;66;03m# The index computation is not guaranteed to give exactly\u001b[39;00m\n\u001b[0;32m    843\u001b[0m \u001b[38;5;66;03m# consistent results within ~1 ULP of the bin edges.\u001b[39;00m\n\u001b[1;32m--> 844\u001b[0m decrement \u001b[38;5;241m=\u001b[39m tmp_a \u001b[38;5;241m<\u001b[39m \u001b[43mbin_edges\u001b[49m\u001b[43m[\u001b[49m\u001b[43mindices\u001b[49m\u001b[43m]\u001b[49m\n\u001b[0;32m    845\u001b[0m indices[decrement] \u001b[38;5;241m-\u001b[39m\u001b[38;5;241m=\u001b[39m \u001b[38;5;241m1\u001b[39m\n\u001b[0;32m    846\u001b[0m \u001b[38;5;66;03m# The last bin includes the right edge. The other bins do not.\u001b[39;00m\n",
      "\u001b[1;31mIndexError\u001b[0m: index -9223372036854775808 is out of bounds for axis 0 with size 51"
     ]
    },
    {
     "data": {
      "image/png": "[encoded data removed]",
      "text/plain": [
       "<Figure size 1000x4000 with 6 Axes>"
      ]
     },
     "metadata": {},
     "output_type": "display_data"
    }
   ],
   "source": [
    "colors = ['blue', 'blue', 'red', 'red', 'purple', 'purple', 'green', 'green']*2\n",
    "\n",
    "plt.figure(figsize = (10, 40))\n",
    "for i in range(len(prices.columns)):\n",
    "    plt.subplot(8, 2, i+1)\n",
    "    plt.title(prices.columns.to_list()[i])\n",
    "    plt.hist(prices[cols[i]], color = colors[i], bins = 50)\n",
    "    plt.xlabel('Price')\n",
    "    plt.axvline(np.mean(prices[cols[i]]), color = 'black')"
   ]
  },
  {
   "cell_type": "code",
   "execution_count": null,
   "id": "53d5adc7-f9fc-491d-a34d-e4a9d1083740",
   "metadata": {},
   "outputs": [],
   "source": [
    "avg_cir = []\n",
    "err_cir = []\n",
    "for col in prices_cir:\n",
    "    avg_cir.append(np.mean(prices_cir[col]))\n",
    "    err_cir.append(np.std(prices_cir[col]))\n",
    "\n",
    "avg_ecir = []\n",
    "err_ecir = []\n",
    "for col in prices_ecir:\n",
    "    avg_ecir.append(np.mean(prices_ecir[col]))\n",
    "    err_ecir.append(np.std(prices_ecir[col]))"
   ]
  },
  {
   "cell_type": "code",
   "execution_count": null,
   "id": "19f43e7f-5045-4039-8f84-ffd574df8535",
   "metadata": {},
   "outputs": [],
   "source": [
    "plt.errorbar(years, avg_cir, yerr = err_cir, label = 'CIR', marker = 'o')\n",
    "plt.errorbar(years, avg_ecir, yerr = err_ecir, label = 'ECIR', marker = 'o')\n",
    "plt.legend(loc = (0.05, 0.05))\n",
    "plt.title('Average Price of Zero Coupon Bonds via Monte Carlo Simulation')\n",
    "plt.xlabel('Maturity (Years)')\n",
    "plt.ylabel('Price')"
   ]
  },
  {
   "cell_type": "code",
   "execution_count": null,
   "id": "759a7f84-843a-46cf-9e0b-a1fbe44b9250",
   "metadata": {},
   "outputs": [],
   "source": [
    "cir_paths = pd.DataFrame()\n",
    "\n",
    "for i in range(len(cir)):\n",
    "    cir_paths[years[i]] = cir[i].paths()"
   ]
  },
  {
   "cell_type": "code",
   "execution_count": null,
   "id": "300f4ece-305d-4b2a-8d0f-1b23b393d9b6",
   "metadata": {},
   "outputs": [],
   "source": [
    "ecir_paths = pd.DataFrame()\n",
    "\n",
    "for i in range(len(ecir)):\n",
    "    ecir_paths[years[i]] = ecir[i].paths()"
   ]
  },
  {
   "cell_type": "code",
   "execution_count": null,
   "id": "20624d08-7593-494e-bd1d-37a739de9659",
   "metadata": {},
   "outputs": [],
   "source": [
    "paths = pd.concat([cir_paths, ecir_paths], axis = 1)\n",
    "paths = paths.sort_index(axis = 1)\n",
    "cols = ['1_CIR', '1_ECIR', '2_CIR', '2_ECIR', '3_CIR', '3_ECIR', '5_CIR', '5_ECIR', '7_CIR', '7_ECIR','10_CIR', '10_ECIR', '20_CIR', '20_ECIR', '30_CIR', '30_ECIR']\n",
    "paths.columns = cols"
   ]
  },
  {
   "cell_type": "code",
   "execution_count": null,
   "id": "dd89ce9a-bf4a-42bc-9f41-aaa9b8f1aeaa",
   "metadata": {
    "scrolled": true
   },
   "outputs": [],
   "source": [
    "plt.figure(figsize = (10, 40))\n",
    "for i in range(len(cols)):\n",
    "    plt.subplot(8, 2, i+1)\n",
    "    plt.title(cols[i])\n",
    "    for j in range(len(paths[cols[i]])):\n",
    "        plt.plot(np.arange(0, len(paths[cols[i]][j])), paths[cols[i]][j])"
   ]
  },
  {
   "cell_type": "code",
   "execution_count": null,
   "id": "3babec13-28b1-44e3-85e5-bbe2e57136f7",
   "metadata": {},
   "outputs": [],
   "source": [
    "term = pd.DataFrame()\n",
    "for i in range(len(cols)):\n",
    "    term_val = []\n",
    "    for j in range(len(paths[cols[i]])):\n",
    "        term_val.append(paths[cols[i]][j][-1])\n",
    "    term[cols[i]] = term_val"
   ]
  },
  {
   "cell_type": "code",
   "execution_count": null,
   "id": "72c3a199-d22f-41f1-a2f5-38983b5f9aca",
   "metadata": {},
   "outputs": [],
   "source": [
    "plt.figure(figsize = (10, 40))\n",
    "for i in range(len(cols)):\n",
    "    plt.subplot(8, 2, i+1)\n",
    "    plt.title(cols[i])\n",
    "    sns.histplot(term[cols[i]], color = colors[i], bins = 50, kde = True)\n",
    "    plt.xlabel('Terminal Interest Rate Value')\n",
    "    plt.axvline(np.mean(term[cols[i]]), color = 'black')"
   ]
  },
  {
   "cell_type": "code",
   "execution_count": null,
   "id": "215bfeeb-0472-48a3-9270-720e96e059c8",
   "metadata": {},
   "outputs": [],
   "source": [
    "term_cir = pd.DataFrame()\n",
    "term_ecir = pd.DataFrame()\n",
    "for i in range(len(cols)):\n",
    "    if i%2 == 0:\n",
    "        term_cir[cols[i]]  = term[cols[i]]\n",
    "    else:\n",
    "        term_ecir[cols[i]] = term[cols[i]]"
   ]
  },
  {
   "cell_type": "code",
   "execution_count": null,
   "id": "81c385ee-cbd8-4d43-8106-82ec22738972",
   "metadata": {},
   "outputs": [],
   "source": [
    "avg_cir_term = []\n",
    "err_cir_term = []\n",
    "for col in term_cir:\n",
    "    avg_cir_term.append(np.mean(term_cir[col]))\n",
    "    err_cir_term.append(np.std(term_cir[col]))\n",
    "\n",
    "avg_ecir_term = []\n",
    "err_ecir_term = []\n",
    "for col in term_ecir:\n",
    "    avg_ecir_term.append(np.mean(term_ecir[col]))\n",
    "    err_ecir_term.append(np.std(term_ecir[col]))"
   ]
  },
  {
   "cell_type": "code",
   "execution_count": null,
   "id": "1f2028cc-63f9-4833-8e04-669cd9d74e03",
   "metadata": {},
   "outputs": [],
   "source": [
    "plt.errorbar(years, avg_cir_term, yerr = err_cir_term, label = 'CIR', marker = 'o')\n",
    "plt.errorbar(years, avg_ecir_term, yerr = err_ecir_term, label = 'ECIR', marker = 'o')\n",
    "plt.legend()\n",
    "plt.title('Average Terminal Value of Zero Coupon Bonds via Monte Carlo Simulation')\n",
    "plt.xlabel('Maturity (Years)')\n",
    "plt.ylabel('Terminal Value of Interest Rate')"
   ]
  },
  {
   "cell_type": "code",
   "execution_count": null,
   "id": "11a591f7-e73e-4ea9-a471-2d9db18320fd",
   "metadata": {},
   "outputs": [],
   "source": []
  }
 ],
 "metadata": {
  "kernelspec": {
   "display_name": "Python 3 (ipykernel)",
   "language": "python",
   "name": "python3"
  },
  "language_info": {
   "codemirror_mode": {
    "name": "ipython",
    "version": 3
   },
   "file_extension": ".py",
   "mimetype": "text/x-python",
   "name": "python",
   "nbconvert_exporter": "python",
   "pygments_lexer": "ipython3",
   "version": "3.10.13"
  }
 },
 "nbformat": 4,
 "nbformat_minor": 5
}
