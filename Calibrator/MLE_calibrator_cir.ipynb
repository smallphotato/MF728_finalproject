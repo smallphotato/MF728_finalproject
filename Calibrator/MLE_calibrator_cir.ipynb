{
 "cells": [
  {
   "cell_type": "code",
   "execution_count": 5,
   "id": "16dbe9b6",
   "metadata": {},
   "outputs": [],
   "source": [
    "import numpy as np\n",
    "import pandas as pd\n",
    "from scipy.optimize import minimize, Bounds, OptimizeResult\n",
    "from CIRModel import BasicCIRModel\n",
    "import sys; sys.path.insert(0, '..')\n",
    "from scipy.optimize import Bounds\n",
    "from scipy.stats import norm"
   ]
  },
  {
   "cell_type": "code",
   "execution_count": 10,
   "id": "b859554f",
   "metadata": {},
   "outputs": [],
   "source": [
    "from scipy.optimize import differential_evolution\n",
    "\n",
    "class Calibration:\n",
    "    def __init__(self, data, dt, model_class, initial_params):\n",
    "        self.data = data\n",
    "        self.dt = dt\n",
    "        self.model_class = model_class\n",
    "        self.initial_params = initial_params\n",
    "\n",
    "    def _nlog_likelihood(self, params, *args):\n",
    "        updated_params = self.initial_params.copy()\n",
    "        updated_params.update(dict(zip(args, params)))\n",
    "        model = self.model_class(**updated_params)\n",
    "        loglikelihood = 0\n",
    "        for i in range(1, len(self.data)):\n",
    "            current_rate = self.data[i-1]\n",
    "            next_rate = self.data[i]\n",
    "            predicted_rate = model.next_rate(current_rate, self.dt)\n",
    "            variance = max(model.sigma**2 * max(current_rate, 0) * self.dt, 1e-8)\n",
    "            probability_density = norm.pdf(next_rate, loc=predicted_rate, scale=np.sqrt(variance))\n",
    "            loglikelihood -= np.log(probability_density + 1e-10)\n",
    "        return loglikelihood\n",
    "\n",
    "    def calibrate(self, bounds, params):\n",
    "        result = differential_evolution(\n",
    "            lambda x: self._nlog_likelihood(x, *params),\n",
    "            bounds=bounds,\n",
    "            strategy='best1bin',\n",
    "            maxiter=1000,\n",
    "            popsize=15,\n",
    "            tol=0.01,\n",
    "            mutation=(0.5, 1),\n",
    "            recombination=0.7,\n",
    "            disp=True\n",
    "        )\n",
    "        return result"
   ]
  },
  {
   "cell_type": "code",
   "execution_count": 11,
   "id": "f84dd9a5",
   "metadata": {},
   "outputs": [
    {
     "name": "stdout",
     "output_type": "stream",
     "text": [
      "differential_evolution step 1: f(x)= -412.1691815230636\n",
      "differential_evolution step 2: f(x)= -453.8782323156116\n",
      "differential_evolution step 3: f(x)= -472.18900910986986\n",
      "differential_evolution step 4: f(x)= -472.18900910986986\n",
      "differential_evolution step 5: f(x)= -472.86941230820736\n",
      "differential_evolution step 6: f(x)= -472.86941230820736\n",
      "differential_evolution step 7: f(x)= -472.86941230820736\n",
      "differential_evolution step 8: f(x)= -473.9895019841692\n",
      "differential_evolution step 9: f(x)= -475.1269737995221\n",
      "differential_evolution step 10: f(x)= -475.1269737995221\n",
      "differential_evolution step 11: f(x)= -475.1269737995221\n",
      "differential_evolution step 12: f(x)= -475.1269737995221\n",
      "differential_evolution step 13: f(x)= -475.1269737995221\n",
      "Polishing solution with 'L-BFGS-B'\n",
      "Optimized Parameters:\n",
      "kappa: 0.0565\n",
      "mu_r: 0.0996\n",
      "sigma: 0.0124\n",
      "\n",
      "Objective Function Value: -475.126974\n",
      "Success: True\n",
      "Message: Optimization terminated successfully.\n"
     ]
    }
   ],
   "source": [
    "# calibrate using 3mon treasury bill YTM for the past 6 months\n",
    "df_1_yc = pd.read_csv(\"DGS3MO.csv\")\n",
    "# data cleaning\n",
    "df_1_yc.index = pd.to_datetime(df_1_yc.DATE)\n",
    "df_1_yc = df_1_yc.dropna().drop(columns=[\"DATE\"])\n",
    "df_1_yc.DGS3MO = df_1_yc.DGS3MO.replace(\".\", np.nan).astype(float)/100\n",
    "df_1_yc = df_1_yc.dropna()\n",
    "# filter out calibration period\n",
    "df_1_yc = df_1_yc['2023-12-15':'2024-03-15']\n",
    "data = df_1_yc['DGS3MO'].values\n",
    "\n",
    "# implementation\n",
    "calibrator = Calibration(\n",
    "    data=data,\n",
    "    dt=1/252,\n",
    "    model_class=BasicCIRModel,\n",
    "    initial_params={'kappa': 0.5, 'mu_r': 0.03, 'sigma': 0.03}\n",
    ")\n",
    "\n",
    "bounds = Bounds([0.01, 0.01, 0.01], [1, 1, 1])  # Specify parameter bounds\n",
    "params = ['kappa', 'mu_r', 'sigma']  # Parameters to optimize\n",
    "result = calibrator.calibrate(bounds=bounds, params=params)\n",
    "\n",
    "print(\"Optimized Parameters:\")\n",
    "for param, value in zip(params, result.x):\n",
    "    print(f\"{param}: {value:.4f}\")\n",
    "\n",
    "print(f\"\\nObjective Function Value: {result.fun:.6f}\")\n",
    "print(f\"Success: {result.success}\")\n",
    "print(f\"Message: {result.message}\")"
   ]
  },
  {
   "cell_type": "code",
   "execution_count": null,
   "id": "90b74920",
   "metadata": {},
   "outputs": [],
   "source": []
  }
 ],
 "metadata": {
  "kernelspec": {
   "display_name": "Python 3 (ipykernel)",
   "language": "python",
   "name": "python3"
  },
  "language_info": {
   "codemirror_mode": {
    "name": "ipython",
    "version": 3
   },
   "file_extension": ".py",
   "mimetype": "text/x-python",
   "name": "python",
   "nbconvert_exporter": "python",
   "pygments_lexer": "ipython3",
   "version": "3.10.13"
  }
 },
 "nbformat": 4,
 "nbformat_minor": 5
}
