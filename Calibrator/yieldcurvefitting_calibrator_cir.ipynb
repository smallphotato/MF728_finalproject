{
 "cells": [
  {
   "cell_type": "code",
   "execution_count": 4,
   "id": "59677aba",
   "metadata": {},
   "outputs": [],
   "source": [
    "import numpy as np\n",
    "import pandas as pd\n",
    "from scipy.optimize import Bounds\n",
    "from copy import copy\n",
    "from scipy.optimize import OptimizeResult, minimize\n",
    "from optimparallel import minimize_parallel\n",
    "from montecarlo import MonteCarlo\n",
    "from CIRModel import BasicCIRModel"
   ]
  },
  {
   "cell_type": "code",
   "execution_count": 5,
   "id": "dadbe278",
   "metadata": {},
   "outputs": [],
   "source": [
    "class Calibration:\n",
    "    \"\"\"Class for calibrating the classic CIR model using numerical optimization.\"\"\"\n",
    "    \n",
    "    def __init__(self, data, dt, model_class, initial_params):\n",
    "        self.data = data\n",
    "        self.dt = dt\n",
    "        self.model_class = model_class\n",
    "        self.initial_params = initial_params\n",
    "\n",
    "    def _calculate_error(self, params, Ts, prices):\n",
    "        model = self.model_class(*params)  # Initialize the model with updated parameters\n",
    "        errors = []\n",
    "        for T, market_price in zip(Ts, prices):\n",
    "            simulated_price = model.exact_solution(0.03, T)  # Assuming 0.03 as the initial rate\n",
    "            errors.append((simulated_price - market_price)**2)\n",
    "        return np.sqrt(np.mean(errors))\n",
    "\n",
    "    def calibrate(self, bounds, params):\n",
    "        initial_values = [self.initial_params[param] for param in params]\n",
    "        result = minimize(\n",
    "            lambda params: self._calculate_error(params, self.data['Maturity'].values, self.data['Price'].values),\n",
    "            initial_values,\n",
    "            method='L-BFGS-B',\n",
    "            bounds=bounds)\n",
    "        return result"
   ]
  },
  {
   "cell_type": "code",
   "execution_count": 7,
   "id": "1a911575",
   "metadata": {},
   "outputs": [
    {
     "name": "stdout",
     "output_type": "stream",
     "text": [
      "Optimized Parameters:\n",
      "kappa: 1.2310\n",
      "mu_r: 0.0459\n",
      "sigma: 0.1410\n",
      "\n",
      "Objective Function Value: 0.007158\n",
      "Success: True\n",
      "Message: CONVERGENCE: NORM_OF_PROJECTED_GRADIENT_<=_PGTOL\n"
     ]
    }
   ],
   "source": [
    "if __name__ == \"__main__\":\n",
    "    # Load and prepare yield curve data\n",
    "    df = pd.read_csv(\"DGS_30.csv\", index_col=0)\n",
    "    df.index = pd.to_datetime(df.index)\n",
    "    df.index.name = 'DATE'\n",
    "    selected_date = '2024-03-15'\n",
    "    yields = df.loc[selected_date].astype(float) / 100\n",
    "\n",
    "    yield_data = pd.DataFrame({\n",
    "        'Yield': yields.values,\n",
    "        'Maturity': np.arange(1, len(yields) + 1)\n",
    "    })\n",
    "\n",
    "    yield_data[\"Price\"] = np.exp(-yield_data[\"Yield\"] * yield_data[\"Maturity\"])\n",
    "\n",
    "    # Initialize model parameters\n",
    "    initial_model_params = {\n",
    "        \"kappa\": 0.5,\n",
    "        \"mu_r\": 0.03,\n",
    "        \"sigma\": 0.03\n",
    "    }\n",
    "\n",
    "    # Define bounds for the parameters\n",
    "    bounds = Bounds([0.001, 0.001, 0.001], [5, 1, 0.5])\n",
    "\n",
    "    # Calibrate model\n",
    "    calibrator = Calibration(\n",
    "        data=yield_data,\n",
    "        dt=1/252,\n",
    "        model_class=BasicCIRModel,\n",
    "        initial_params=initial_model_params\n",
    "    )\n",
    "\n",
    "    # Parameters to calibrate\n",
    "    params = [\"kappa\", \"mu_r\", \"sigma\"]\n",
    "    result = calibrator.calibrate(bounds=bounds, params=params)\n",
    "\n",
    "    print(\"Optimized Parameters:\")\n",
    "    for name, value in zip(params, result.x):\n",
    "        print(f\"{name}: {value:.4f}\")\n",
    "    print(f\"\\nObjective Function Value: {result.fun:.6f}\")\n",
    "    print(f\"Success: {result.success}\")\n",
    "    print(f\"Message: {result.message}\")"
   ]
  }
 ],
 "metadata": {
  "kernelspec": {
   "display_name": "Python 3 (ipykernel)",
   "language": "python",
   "name": "python3"
  },
  "language_info": {
   "codemirror_mode": {
    "name": "ipython",
    "version": 3
   },
   "file_extension": ".py",
   "mimetype": "text/x-python",
   "name": "python",
   "nbconvert_exporter": "python",
   "pygments_lexer": "ipython3",
   "version": "3.10.13"
  }
 },
 "nbformat": 4,
 "nbformat_minor": 5
}
