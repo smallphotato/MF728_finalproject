{
 "cells": [
  {
   "cell_type": "code",
   "execution_count": 1,
   "id": "3a8b5b67-67b6-4b10-8b16-4e5c133a5197",
   "metadata": {},
   "outputs": [],
   "source": [
    "import pandas as pd\n",
    "import numpy as np\n",
    "from yieldCurvePrediction import yieldCurvePredictor\n",
    "from Models.ECIR_new import ECIRModel\n",
    "from Models.CIRModel import BasicCIRModel"
   ]
  },
  {
   "cell_type": "code",
   "execution_count": 2,
   "id": "5f6c9588-8eff-4804-97b4-19b2653142f1",
   "metadata": {},
   "outputs": [],
   "source": [
    "class strategy:\n",
    "\n",
    "    def __init__(self, model, dates, data):\n",
    "\n",
    "        self.model = model\n",
    "        self.dates = dates\n",
    "        self.data = data\n",
    "\n",
    "    def prices(self):\n",
    "\n",
    "        mod_dict = {}\n",
    "        price_dict = {}\n",
    "        \n",
    "        for date in self.dates:\n",
    "    \n",
    "            mod_dict[date] = yieldCurvePredictor(self.model, date, self.data) \n",
    "            price_dict[date] = mod_dict[date].comb_data()[1]\n",
    "    \n",
    "        return price_dict\n",
    "\n",
    "    def buy_sell(self):\n",
    "\n",
    "        prices = self.prices()\n",
    "    \n",
    "        for date in self.dates:\n",
    "    \n",
    "            bonds = []\n",
    "        \n",
    "            for bond in prices[date].index:\n",
    "                if prices[date]['Simulated Prices'][bond] < prices[date]['Actual Prices'][bond]:\n",
    "                    bonds.append(-1)\n",
    "                else:\n",
    "                   bonds.append(1)\n",
    "            prices[date]['Buy?'] = bonds \n",
    "\n",
    "        return prices\n",
    "\n",
    "    def profit(self, cash = 1000000):\n",
    "\n",
    "        prices = self.buy_sell()\n",
    "        weights = 1 / len(prices[self.dates[0]])\n",
    "        value = weights*cash\n",
    "        invested = np.zeros(len(prices[self.dates[0]]))\n",
    "        shares = np.zeros(len(prices[self.dates[0]]))\n",
    "        profit = np.zeros(len(prices[self.dates[0]]))\n",
    "        prices = self.buy_sell()\n",
    "        \n",
    "        for i in range(len(self.dates)):\n",
    "\n",
    "            errs = pd.DataFrame({'Error' :np.abs(prices[self.dates[i]]['Actual Prices'] - prices[self.dates[i]]['Simulated Prices'])})\n",
    "\n",
    "            errs = errs.sort_values(by = 'Error')\n",
    "            errs['Invest?'] = np.zeros(len(errs))\n",
    "            new_index = errs.index\n",
    "            index_ones = new_index[:5]\n",
    "            index_zeros = new_index[5:]\n",
    "            errs['Invest?'][index_ones] = np.ones(5)\n",
    "            errs['Invest?'][index_zeros] = np.zeros(len(errs) - 5)\n",
    "\n",
    "            prices[dates[i]] = prices[dates[i]].join(errs)\n",
    "            \n",
    "            for j in range(len(prices[self.dates[i]]['Actual Prices'])):\n",
    "                \n",
    "                profit[j] += (shares[j] * prices[self.dates[i]]['Actual Prices'][j]) - invested[j]\n",
    "                yesterday_invested = np.sum(invested)\n",
    "                \n",
    "                shares[j] = np.floor(value / prices[self.dates[i]]['Actual Prices'][j]) * prices[self.dates[i]]['Invest?'][j]\n",
    "                invested[j] = (shares[j] * prices[self.dates[i]]['Actual Prices'][j]) * prices[self.dates[i]]['Invest?'][j]\n",
    "                \n",
    "                if prices[self.dates[i]]['Buy?'][j] == -1:\n",
    "                    invested[j] *= -1\n",
    "                    shares[j] *= -1\n",
    "        \n",
    "            cash += (np.sum(profit) + yesterday_invested - np.sum(invested))\n",
    "            value = weights*cash\n",
    "\n",
    "        return pd.DataFrame({'Profit' : profit}).set_index(prices[dates[0]].index)"
   ]
  },
  {
   "cell_type": "code",
   "execution_count": 3,
   "id": "1807eefb-a9e0-446d-a27e-6e4e732ca9a1",
   "metadata": {},
   "outputs": [],
   "source": [
    "# Load the DGS_30 data\n",
    "dgs_30_data = pd.read_csv('Data Folder/DGS_30.csv')\n",
    "# Load the DGS3MO data\n",
    "dgs3mo_data = pd.read_csv('Data Folder/DGS3MO.csv')\n",
    "\n",
    "# Convert the 'DATE' column to datetime and set it as index for both DataFrames\n",
    "dgs_30_data.rename(columns={'Unnamed: 0': 'Date'}, inplace=True)\n",
    "dgs_30_data['Date'] = pd.to_datetime(dgs_30_data['Date'])\n",
    "dgs_30_data.set_index('Date', inplace=True)\n",
    "\n",
    "dgs3mo_data.rename(columns={'DATE': 'Date'}, inplace=True)\n",
    "dgs3mo_data['Date'] = pd.to_datetime(dgs3mo_data['Date'])\n",
    "dgs3mo_data.set_index('Date', inplace=True)\n",
    "\n",
    "# Insert the DGS3MO data into the DGS_30 data as the first column\n",
    "dgs_30_data.insert(0, 'DGS3MO', dgs3mo_data['DGS3MO'])\n",
    "\n",
    "data=dgs_30_data\n",
    "\n",
    "dates = data.loc[data.index >= '2024-03-15'].index"
   ]
  },
  {
   "cell_type": "code",
   "execution_count": 5,
   "id": "6f356e4d-01c3-4171-8a86-5f0f288230aa",
   "metadata": {},
   "outputs": [],
   "source": [
    "import matplotlib.pyplot as plt\n",
    "import seaborn as sns"
   ]
  },
  {
   "cell_type": "markdown",
   "id": "233b890f-23d5-469b-86ab-ec223ff75860",
   "metadata": {},
   "source": [
    "# YIELD CURVE RESULTS"
   ]
  },
  {
   "cell_type": "code",
   "execution_count": 8,
   "id": "315ad836-e57c-4171-b53e-ff23b8b33ec7",
   "metadata": {},
   "outputs": [],
   "source": [
    "params_ecir = {\n",
    "    \"kappa\": 3.071,    \n",
    "    \"mu_r\": 0.007668,     \n",
    "    \"sigma\": 0.3419,    \n",
    "    \"mu\": 0.08226,      \n",
    "    \"gamma\": 0.04355            \n",
    "}\n",
    "\n",
    "params_cir = {\n",
    "    'kappa': 1.2310,\n",
    "    'mu_r': 0.0459,\n",
    "    'sigma': 0.1410\n",
    "}\n",
    "\n",
    "cir_ann = []\n",
    "ecir_ann = []\n",
    "all_profs = []\n",
    "\n",
    "for i in range(100):\n",
    "    CIR = strategy(BasicCIRModel(**params_cir), dates, data)\n",
    "    ECIR = strategy(ECIRModel(**params_ecir), dates, data)\n",
    "            \n",
    "    CIR_profit = CIR.profit(1000000).rename(columns = {'Profit' : 'CIR'})\n",
    "    ECIR_profit = ECIR.profit(1000000).rename(columns = {'Profit' : 'ECIR'})\n",
    "    \n",
    "    profits = pd.concat([CIR_profit, ECIR_profit], axis = 1)\n",
    "\n",
    "    cir_ann.append((np.sum(profits)*100*12/1000000)[0])\n",
    "    ecir_ann.append((np.sum(profits)*100*12/1000000)[1])\n",
    "    all_profs.append(profits)"
   ]
  },
  {
   "cell_type": "code",
   "execution_count": 13,
   "id": "0607f6c6-b0d5-4dec-aeee-600437282e56",
   "metadata": {},
   "outputs": [
    {
     "data": {
      "text/plain": [
       "Text(0.5, 0, 'Annualized Profit (%)')"
      ]
     },
     "execution_count": 13,
     "metadata": {},
     "output_type": "execute_result"
    },
    {
     "data": {
      "image/png": "[encoded data removed]",
      "text/plain": [
       "<Figure size 1000x500 with 2 Axes>"
      ]
     },
     "metadata": {},
     "output_type": "display_data"
    }
   ],
   "source": [
    "plt.figure(figsize = (10, 5))\n",
    "plt.subplot(1, 2, 1)\n",
    "sns.histplot(cir_ann, bins = 25, kde = True)\n",
    "plt.axvline(np.mean(cir_ann), color = 'red', label = 'CIR Avg. Ann. Profit')\n",
    "plt.legend()\n",
    "plt.title('CIR Annualized Profit')\n",
    "plt.xlabel('Annualized Profit (%)')\n",
    "plt.subplot(1, 2, 2)\n",
    "sns.histplot(ecir_ann, bins = 25, kde = True)\n",
    "plt.axvline(np.mean(ecir_ann), color = 'red', label = 'ECIR Avg. Ann. Profit')\n",
    "plt.legend()\n",
    "plt.title('ECIR Annualized Profit')\n",
    "plt.xlabel('Annualized Profit (%)')"
   ]
  },
  {
   "cell_type": "code",
   "execution_count": 10,
   "id": "411fa0f6-f91d-42de-94ed-631df3d3c6f1",
   "metadata": {},
   "outputs": [
    {
     "name": "stdout",
     "output_type": "stream",
     "text": [
      "CIR Average Annualized Profit: 0.46 %\n",
      "ECIR Average Annualized Profit: -0.02 %\n"
     ]
    }
   ],
   "source": [
    "print('CIR Average Annualized Profit:', str(round(np.mean(cir_ann), 2)), '%')\n",
    "print('ECIR Average Annualized Profit:', str(round(np.mean(ecir_ann), 2)), '%')"
   ]
  },
  {
   "cell_type": "code",
   "execution_count": 19,
   "id": "09293236-73b4-456a-84f6-aa7414a119b4",
   "metadata": {},
   "outputs": [],
   "source": [
    "all_cir = pd.DataFrame()\n",
    "all_ecir = pd.DataFrame()\n",
    "for i in range(len(all_profs)):\n",
    "    all_cir[i] = all_profs[i]['CIR']\n",
    "    all_ecir[i] = all_profs[i]['ECIR']\n",
    "\n",
    "all_cir = all_cir.transpose()\n",
    "all_ecir = all_ecir.transpose()"
   ]
  },
  {
   "cell_type": "code",
   "execution_count": 23,
   "id": "7d8ae9f7-7146-4675-ae1a-d1ff514e669b",
   "metadata": {},
   "outputs": [
    {
     "name": "stderr",
     "output_type": "stream",
     "text": [
      "C:\\Users\\hanna\\anaconda3\\lib\\site-packages\\numpy\\core\\fromnumeric.py:3462: FutureWarning: In a future version, DataFrame.mean(axis=None) will return a scalar mean over the entire DataFrame. To retain the old behavior, use 'frame.mean(axis=0)' or just 'frame.mean()'\n",
      "  return mean(axis=axis, dtype=dtype, out=out, **kwargs)\n",
      "C:\\Users\\hanna\\anaconda3\\lib\\site-packages\\numpy\\core\\fromnumeric.py:3462: FutureWarning: In a future version, DataFrame.mean(axis=None) will return a scalar mean over the entire DataFrame. To retain the old behavior, use 'frame.mean(axis=0)' or just 'frame.mean()'\n",
      "  return mean(axis=axis, dtype=dtype, out=out, **kwargs)\n"
     ]
    }
   ],
   "source": [
    "avg_cir_ind = np.mean(all_cir)*100*12/1000000\n",
    "avg_ecir_ind = np.mean(all_ecir)*100*12/1000000"
   ]
  },
  {
   "cell_type": "code",
   "execution_count": 62,
   "id": "ec8c7d83-7e01-4f2b-9e32-73601a3525f4",
   "metadata": {},
   "outputs": [],
   "source": [
    "prof_ind = pd.DataFrame()\n",
    "\n",
    "prof_ind['CIR'] = avg_cir_ind\n",
    "prof_ind['ECIR'] = avg_ecir_ind"
   ]
  },
  {
   "cell_type": "code",
   "execution_count": 64,
   "id": "00496055-80b2-437b-9b0a-67a882566638",
   "metadata": {},
   "outputs": [
    {
     "data": {
      "text/html": [
       "<style type=\"text/css\">\n",
       "</style>\n",
       "<table id=\"T_3bc58\">\n",
       "  <thead>\n",
       "    <tr>\n",
       "      <th class=\"blank level0\" >&nbsp;</th>\n",
       "      <th id=\"T_3bc58_level0_col0\" class=\"col_heading level0 col0\" >DGS16</th>\n",
       "      <th id=\"T_3bc58_level0_col1\" class=\"col_heading level0 col1\" >DGS17</th>\n",
       "      <th id=\"T_3bc58_level0_col2\" class=\"col_heading level0 col2\" >DGS18</th>\n",
       "      <th id=\"T_3bc58_level0_col3\" class=\"col_heading level0 col3\" >DGS19</th>\n",
       "      <th id=\"T_3bc58_level0_col4\" class=\"col_heading level0 col4\" >DGS20</th>\n",
       "      <th id=\"T_3bc58_level0_col5\" class=\"col_heading level0 col5\" >DGS21</th>\n",
       "      <th id=\"T_3bc58_level0_col6\" class=\"col_heading level0 col6\" >DGS22</th>\n",
       "      <th id=\"T_3bc58_level0_col7\" class=\"col_heading level0 col7\" >DGS23</th>\n",
       "      <th id=\"T_3bc58_level0_col8\" class=\"col_heading level0 col8\" >DGS24</th>\n",
       "      <th id=\"T_3bc58_level0_col9\" class=\"col_heading level0 col9\" >DGS25</th>\n",
       "      <th id=\"T_3bc58_level0_col10\" class=\"col_heading level0 col10\" >DGS26</th>\n",
       "      <th id=\"T_3bc58_level0_col11\" class=\"col_heading level0 col11\" >DGS27</th>\n",
       "      <th id=\"T_3bc58_level0_col12\" class=\"col_heading level0 col12\" >DGS28</th>\n",
       "      <th id=\"T_3bc58_level0_col13\" class=\"col_heading level0 col13\" >DGS29</th>\n",
       "      <th id=\"T_3bc58_level0_col14\" class=\"col_heading level0 col14\" >DGS30</th>\n",
       "    </tr>\n",
       "  </thead>\n",
       "  <tbody>\n",
       "    <tr>\n",
       "      <th id=\"T_3bc58_level0_row0\" class=\"row_heading level0 row0\" >CIR</th>\n",
       "      <td id=\"T_3bc58_row0_col0\" class=\"data row0 col0\" >-0.0050</td>\n",
       "      <td id=\"T_3bc58_row0_col1\" class=\"data row0 col1\" >-0.0001</td>\n",
       "      <td id=\"T_3bc58_row0_col2\" class=\"data row0 col2\" >-0.0003</td>\n",
       "      <td id=\"T_3bc58_row0_col3\" class=\"data row0 col3\" >-0.0002</td>\n",
       "      <td id=\"T_3bc58_row0_col4\" class=\"data row0 col4\" >0.0076</td>\n",
       "      <td id=\"T_3bc58_row0_col5\" class=\"data row0 col5\" >-0.0086</td>\n",
       "      <td id=\"T_3bc58_row0_col6\" class=\"data row0 col6\" >0.0034</td>\n",
       "      <td id=\"T_3bc58_row0_col7\" class=\"data row0 col7\" >0.0128</td>\n",
       "      <td id=\"T_3bc58_row0_col8\" class=\"data row0 col8\" >0.0439</td>\n",
       "      <td id=\"T_3bc58_row0_col9\" class=\"data row0 col9\" >0.0835</td>\n",
       "      <td id=\"T_3bc58_row0_col10\" class=\"data row0 col10\" >0.1085</td>\n",
       "      <td id=\"T_3bc58_row0_col11\" class=\"data row0 col11\" >0.0953</td>\n",
       "      <td id=\"T_3bc58_row0_col12\" class=\"data row0 col12\" >0.0677</td>\n",
       "      <td id=\"T_3bc58_row0_col13\" class=\"data row0 col13\" >0.0397</td>\n",
       "      <td id=\"T_3bc58_row0_col14\" class=\"data row0 col14\" >0.0211</td>\n",
       "    </tr>\n",
       "    <tr>\n",
       "      <th id=\"T_3bc58_level0_row1\" class=\"row_heading level0 row1\" >ECIR</th>\n",
       "      <td id=\"T_3bc58_row1_col0\" class=\"data row1 col0\" >-0.0005</td>\n",
       "      <td id=\"T_3bc58_row1_col1\" class=\"data row1 col1\" >0.0002</td>\n",
       "      <td id=\"T_3bc58_row1_col2\" class=\"data row1 col2\" >0.0002</td>\n",
       "      <td id=\"T_3bc58_row1_col3\" class=\"data row1 col3\" >-0.0024</td>\n",
       "      <td id=\"T_3bc58_row1_col4\" class=\"data row1 col4\" >-0.0014</td>\n",
       "      <td id=\"T_3bc58_row1_col5\" class=\"data row1 col5\" >-0.0007</td>\n",
       "      <td id=\"T_3bc58_row1_col6\" class=\"data row1 col6\" >0.0024</td>\n",
       "      <td id=\"T_3bc58_row1_col7\" class=\"data row1 col7\" >-0.0004</td>\n",
       "      <td id=\"T_3bc58_row1_col8\" class=\"data row1 col8\" >-0.0022</td>\n",
       "      <td id=\"T_3bc58_row1_col9\" class=\"data row1 col9\" >-0.0010</td>\n",
       "      <td id=\"T_3bc58_row1_col10\" class=\"data row1 col10\" >-0.0014</td>\n",
       "      <td id=\"T_3bc58_row1_col11\" class=\"data row1 col11\" >-0.0023</td>\n",
       "      <td id=\"T_3bc58_row1_col12\" class=\"data row1 col12\" >-0.0030</td>\n",
       "      <td id=\"T_3bc58_row1_col13\" class=\"data row1 col13\" >-0.0005</td>\n",
       "      <td id=\"T_3bc58_row1_col14\" class=\"data row1 col14\" >-0.0009</td>\n",
       "    </tr>\n",
       "  </tbody>\n",
       "</table>\n"
      ],
      "text/plain": [
       "<pandas.io.formats.style.Styler at 0x122a10369b0>"
      ]
     },
     "execution_count": 64,
     "metadata": {},
     "output_type": "execute_result"
    }
   ],
   "source": [
    "prof_ind['DGS16':].transpose().style.format(precision = 4).applymap(lambda x: 'background-color : yellow' if x==0 else '')"
   ]
  },
  {
   "cell_type": "code",
   "execution_count": null,
   "id": "f52fbe82-47c9-4e55-93a2-8478f1d64605",
   "metadata": {},
   "outputs": [],
   "source": []
  }
 ],
 "metadata": {
  "kernelspec": {
   "display_name": "Python 3 (ipykernel)",
   "language": "python",
   "name": "python3"
  },
  "language_info": {
   "codemirror_mode": {
    "name": "ipython",
    "version": 3
   },
   "file_extension": ".py",
   "mimetype": "text/x-python",
   "name": "python",
   "nbconvert_exporter": "python",
   "pygments_lexer": "ipython3",
   "version": "3.10.13"
  }
 },
 "nbformat": 4,
 "nbformat_minor": 5
}
