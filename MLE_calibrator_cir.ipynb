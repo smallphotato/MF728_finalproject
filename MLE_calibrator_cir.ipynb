{
 "cells": [
  {
   "cell_type": "code",
   "execution_count": 4,
   "id": "16dbe9b6",
   "metadata": {},
   "outputs": [],
   "source": [
    "import numpy as np\n",
    "import pandas as pd\n",
    "from scipy.optimize import minimize, Bounds, OptimizeResult\n",
    "from CIRModel import BasicCIRModel\n",
    "import sys; sys.path.insert(0, '..')\n",
    "from scipy.optimize import Bounds\n",
    "from scipy.stats import norm"
   ]
  },
  {
   "cell_type": "code",
   "execution_count": 5,
   "id": "b859554f",
   "metadata": {},
   "outputs": [],
   "source": [
    "class Calibration:\n",
    "    \"\"\"Class for calibrating interest rate models using Maximum Likelihood Estimation (MLE).\"\"\"\n",
    "    \n",
    "    def __init__(self, data, dt, model_class, initial_params):\n",
    "        self.data = data\n",
    "        self.dt = dt\n",
    "        self.model_class = model_class\n",
    "        self.initial_params = initial_params\n",
    "\n",
    "    def _nlog_likelihood(self, params, *args):\n",
    "        # Create a new dictionary that updates the initial_params with the new parameter values\n",
    "        updated_params = self.initial_params.copy()\n",
    "        updated_params.update(dict(zip(args, params)))\n",
    "\n",
    "        # Initialize the model with the updated parameters\n",
    "        model = self.model_class(**updated_params)\n",
    "        loglikelihood = 0\n",
    "        \n",
    "        for i in range(len(self.data) - 1):\n",
    "            current_rate = self.data[i]\n",
    "            next_rate = self.data[i + 1]\n",
    "            predicted_rate = model.next_rate(current_rate, self.dt)\n",
    "            variance = model.sigma**2 * max(current_rate, 0) * self.dt\n",
    "            probability_density = norm.pdf(next_rate, loc=predicted_rate, scale=np.sqrt(variance))\n",
    "            loglikelihood -= np.log(probability_density + 1e-10)  # Add a small constant to avoid log(0)\n",
    "\n",
    "        return loglikelihood\n",
    "\n",
    "    def calibrate(self, bounds, params):\n",
    "        # Get initial values for the parameters to be optimized\n",
    "        initial_values = [self.initial_params[param] for param in params]\n",
    "\n",
    "        # Minimize the negative log likelihood\n",
    "        result = minimize(\n",
    "            self._nlog_likelihood,\n",
    "            initial_values,\n",
    "            args=tuple(params),  # Ensure parameters names are passed as a tuple\n",
    "            method='L-BFGS-B',\n",
    "            bounds=bounds\n",
    "        )\n",
    "        return result"
   ]
  },
  {
   "cell_type": "code",
   "execution_count": 7,
   "id": "f84dd9a5",
   "metadata": {},
   "outputs": [
    {
     "name": "stdout",
     "output_type": "stream",
     "text": [
      "Optimized Parameters:\n",
      "kappa: 0.2000\n",
      "mu_r: 0.0500\n",
      "sigma: 0.0100\n",
      "\n",
      "Objective Function Value: -472.265465\n",
      "Success: True\n",
      "Message: CONVERGENCE: REL_REDUCTION_OF_F_<=_FACTR*EPSMCH\n"
     ]
    }
   ],
   "source": [
    "# calibrate using 3mon treasury bill YTM for the past 6 months\n",
    "df_1_yc = pd.read_csv(\"DGS3MO.csv\")\n",
    "# data cleaning\n",
    "df_1_yc.index = pd.to_datetime(df_1_yc.DATE)\n",
    "df_1_yc = df_1_yc.dropna().drop(columns=[\"DATE\"])\n",
    "df_1_yc.DGS3MO = df_1_yc.DGS3MO.replace(\".\", np.nan).astype(float)/100\n",
    "df_1_yc = df_1_yc.dropna()\n",
    "# filter out calibration period\n",
    "df_1_yc = df_1_yc['2023-12-15':'2024-03-15']\n",
    "data = df_1_yc['DGS3MO'].values\n",
    "\n",
    "# implementation\n",
    "calibrator = Calibration(\n",
    "    data=data,\n",
    "    dt=1/252,\n",
    "    model_class=BasicCIRModel,\n",
    "    initial_params={'kappa': 0.2, 'mu_r': 0.05, 'sigma': 0.01}\n",
    ")\n",
    "\n",
    "bounds = Bounds([0.01, 0.01, 0.01], [1, 1, 1])  # Specify parameter bounds\n",
    "params = ['kappa', 'mu_r', 'sigma']  # Parameters to optimize\n",
    "result = calibrator.calibrate(bounds=bounds, params=params)\n",
    "\n",
    "print(\"Optimized Parameters:\")\n",
    "for param, value in zip(params, result.x):\n",
    "    print(f\"{param}: {value:.4f}\")\n",
    "\n",
    "print(f\"\\nObjective Function Value: {result.fun:.6f}\")\n",
    "print(f\"Success: {result.success}\")\n",
    "print(f\"Message: {result.message}\")"
   ]
  }
 ],
 "metadata": {
  "kernelspec": {
   "display_name": "Python 3 (ipykernel)",
   "language": "python",
   "name": "python3"
  },
  "language_info": {
   "codemirror_mode": {
    "name": "ipython",
    "version": 3
   },
   "file_extension": ".py",
   "mimetype": "text/x-python",
   "name": "python",
   "nbconvert_exporter": "python",
   "pygments_lexer": "ipython3",
   "version": "3.11.5"
  }
 },
 "nbformat": 4,
 "nbformat_minor": 5
}
